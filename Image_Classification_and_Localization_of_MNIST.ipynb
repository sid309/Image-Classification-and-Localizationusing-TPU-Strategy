{
  "nbformat": 4,
  "nbformat_minor": 0,
  "metadata": {
    "colab": {
      "name": "Image Classification and Localization of MNIST.ipynb",
      "provenance": []
    },
    "kernelspec": {
      "name": "python3",
      "display_name": "Python 3"
    },
    "language_info": {
      "name": "python"
    },
    "accelerator": "TPU"
  },
  "cells": [
    {
      "cell_type": "code",
      "metadata": {
        "id": "G7-riwWzvzcy"
      },
      "source": [
        "import os,re,json,time\n",
        "import PIL.Image,PIL.ImageFont,PIL.ImageDraw\n",
        "import numpy as np\n",
        "try:\n",
        "  %tensorflow_version 2.x\n",
        "except Exception:\n",
        "  pass\n",
        "import tensorflow as tf\n",
        "from matplotlib import pyplot as plt\n",
        "import tensorflow_datasets as tfds"
      ],
      "execution_count": 1,
      "outputs": []
    },
    {
      "cell_type": "code",
      "metadata": {
        "id": "_jI66ccmy6zn"
      },
      "source": [
        "im_width=75\n",
        "im_height=75\n",
        "use_normalized_coordinates=True\n",
        "def draw_bounding_boxes_on_image_array(image,boxes,color=[],thickness=1,display_str_list=()):\n",
        "  image_pil=PIL.Image.fromarray(image)\n",
        "  rgbimg=PIL.Image.new(\"RGBA\",image_pil.size)\n",
        "  rgbimg.paste(image_pil)\n",
        "  draw_bounding_boxes_on_image(rgbimg, boxes, color, thickness,display_str_list)\n",
        "  return np.array(rgbimg)"
      ],
      "execution_count": 2,
      "outputs": []
    },
    {
      "cell_type": "code",
      "metadata": {
        "id": "_1PPFZdQ1iUd"
      },
      "source": [
        "def draw_bounding_boxes_on_image(image,boxes,color=[],thickness=1,display_str_list=()):\n",
        "  boxes_shape=boxes.shape\n",
        "  if not boxes_shape:\n",
        "    return\n",
        "  if len(boxes_shape)!=2 or boxes_shape[1]!=4:\n",
        "    raise ValueError('Input must be of size [N, 4]')\n",
        "  for i in range(boxes_shape[0]):\n",
        "    draw_bounding_box_on_image(image,boxes[i, 1],boxes[i, 0],boxes[i, 3],boxes[i, 2],color[i],thickness,display_str_list[i])"
      ],
      "execution_count": 3,
      "outputs": []
    },
    {
      "cell_type": "code",
      "metadata": {
        "id": "UNZc6YnO2Ycq"
      },
      "source": [
        "def draw_bounding_box_on_image(image,ymin,xmin,ymax,xmax,color='red',thickness=1,display_str=None,use_normalized_coordinates=True):\n",
        "  draw=PIL.ImageDraw.Draw(image)\n",
        "  im_width,im_height=image.size\n",
        "  if use_normalized_coordinates:\n",
        "    (left, right, top, bottom) = (xmin * im_width, xmax * im_width,ymin * im_height, ymax * im_height)\n",
        "  else:\n",
        "    (left, right, top, bottom) = (xmin, xmax, ymin, ymax)\n",
        "  draw.line([(left, top), (left, bottom), (right, bottom),(right, top), (left, top)], width=thickness, fill=color)"
      ],
      "execution_count": 4,
      "outputs": []
    },
    {
      "cell_type": "code",
      "metadata": {
        "id": "PbJtV_dg3q9R"
      },
      "source": [
        "plt.rc('image', cmap='gray')\n",
        "plt.rc('grid', linewidth=0)\n",
        "plt.rc('xtick', top=False, bottom=False, labelsize='large')\n",
        "plt.rc('ytick', left=False, right=False, labelsize='large')\n",
        "plt.rc('axes', facecolor='F8F8F8', titlesize=\"large\", edgecolor='white')\n",
        "plt.rc('text', color='a8151a')\n",
        "plt.rc('figure', facecolor='F0F0F0')\n",
        "MATPLOTLIB_FONT_DIR = os.path.join(os.path.dirname(plt.__file__), \"mpl-data/fonts/ttf\")"
      ],
      "execution_count": 5,
      "outputs": []
    },
    {
      "cell_type": "code",
      "metadata": {
        "id": "lwniEPft4x-7"
      },
      "source": [
        "def dataset_to_numpy_util(training_dataset, validation_dataset, N):\n",
        "  batch_train_ds = training_dataset.unbatch().batch(N)\n",
        "  if tf.executing_eagerly():\n",
        "    for validation_digits, (validation_labels, validation_bboxes) in validation_dataset:\n",
        "      validation_digits = validation_digits.numpy()\n",
        "      validation_labels = validation_labels.numpy()\n",
        "      validation_bboxes = validation_bboxes.numpy()\n",
        "      break\n",
        "    for training_digits, (training_labels, training_bboxes) in batch_train_ds:\n",
        "      training_digits = training_digits.numpy()\n",
        "      training_labels = training_labels.numpy()\n",
        "      training_bboxes = training_bboxes.numpy()\n",
        "      break\n",
        "  validation_labels = np.argmax(validation_labels, axis=1)\n",
        "  training_labels = np.argmax(training_labels, axis=1)\n",
        "  return (training_digits, training_labels, training_bboxes,validation_digits, validation_labels, validation_bboxes)"
      ],
      "execution_count": 6,
      "outputs": []
    },
    {
      "cell_type": "code",
      "metadata": {
        "id": "hPyMdyER5Uox"
      },
      "source": [
        "def create_digits_from_local_fonts(n):\n",
        "  font_labels = []\n",
        "  img = PIL.Image.new('LA', (75*n, 75), color = (0,255))\n",
        "  font1 = PIL.ImageFont.truetype(os.path.join(MATPLOTLIB_FONT_DIR, 'DejaVuSansMono-Oblique.ttf'), 25)\n",
        "  font2 = PIL.ImageFont.truetype(os.path.join(MATPLOTLIB_FONT_DIR, 'STIXGeneral.ttf'), 25)\n",
        "  d = PIL.ImageDraw.Draw(img)\n",
        "  for i in range(n):\n",
        "    font_labels.append(i%10)\n",
        "    d.text((7+i*75,0 if i<10 else -4), str(i%10), fill=(255,255), font=font1 if i<10 else font2)\n",
        "  font_digits = np.array(img.getdata(), np.float32)[:,0] / 255.0\n",
        "  font_digits = np.reshape(np.stack(np.split(np.reshape(font_digits, [75, 75*n]), n, axis=1), axis=0), [n, 75*75])\n",
        "  return font_digits, font_labels"
      ],
      "execution_count": 7,
      "outputs": []
    },
    {
      "cell_type": "code",
      "metadata": {
        "id": "723SJNiV5i6J"
      },
      "source": [
        "def plot_metrics(metric_name, title, ylim=5):\n",
        "  plt.title(title)\n",
        "  plt.ylim(0,ylim)\n",
        "  plt.plot(history.history[metric_name],color='blue',label=metric_name)\n",
        "  plt.plot(history.history['val_' + metric_name],color='green',label='val_' + metric_name)"
      ],
      "execution_count": 8,
      "outputs": []
    },
    {
      "cell_type": "code",
      "metadata": {
        "id": "X1z5384L5w-0"
      },
      "source": [
        "def display_digits_with_boxes(digits, predictions, labels, pred_bboxes, bboxes, iou, title):\n",
        "  n = 10\n",
        "  indexes = np.random.choice(len(predictions), size=n)\n",
        "  n_digits = digits[indexes]\n",
        "  n_predictions = predictions[indexes]\n",
        "  n_labels = labels[indexes]\n",
        "  n_iou = []\n",
        "  if len(iou) > 0:\n",
        "    n_iou = iou[indexes]\n",
        "  if (len(pred_bboxes) > 0):\n",
        "    n_pred_bboxes = pred_bboxes[indexes,:]\n",
        "  if (len(bboxes) > 0):\n",
        "    n_bboxes = bboxes[indexes,:]\n",
        "  n_digits = n_digits * 255.0\n",
        "  n_digits = n_digits.reshape(n, 75, 75)\n",
        "  fig = plt.figure(figsize=(20, 4))\n",
        "  plt.title(title)\n",
        "  plt.yticks([])\n",
        "  plt.xticks([])\n",
        "  for i in range(10):\n",
        "    ax = fig.add_subplot(1, 10, i+1)\n",
        "    bboxes_to_plot = []\n",
        "    if (len(pred_bboxes) > i):\n",
        "      bboxes_to_plot.append(n_pred_bboxes[i])    \n",
        "    if (len(bboxes) > i):\n",
        "      bboxes_to_plot.append(n_bboxes[i])\n",
        "    img_to_draw = draw_bounding_boxes_on_image_array(image=n_digits[i], boxes=np.asarray(bboxes_to_plot), color=['red', 'green'], display_str_list=[\"true\", \"pred\"])\n",
        "    plt.xlabel(n_predictions[i])\n",
        "    plt.xticks([])\n",
        "    plt.yticks([])\n",
        "    if n_predictions[i] != n_labels[i]:\n",
        "      ax.xaxis.label.set_color('red')\n",
        "    plt.imshow(img_to_draw)\n",
        "    if len(iou) > i :\n",
        "      color = \"black\"\n",
        "      if (n_iou[i][0] < iou_threshold):\n",
        "        color = \"red\"\n",
        "      ax.text(0.2, -0.3, \"iou: %s\" %(n_iou[i][0]), color=color, transform=ax.transAxes)"
      ],
      "execution_count": 9,
      "outputs": []
    },
    {
      "cell_type": "code",
      "metadata": {
        "id": "SZctbG_06B4T"
      },
      "source": [
        "try:\n",
        "  tpu = tf.distribute.cluster_resolver.TPUClusterResolver()\n",
        "except ValueError:\n",
        "  tpu = None\n",
        "  gpus = tf.config.experimental.list_logical_devices(\"GPU\")"
      ],
      "execution_count": 10,
      "outputs": []
    },
    {
      "cell_type": "code",
      "metadata": {
        "colab": {
          "base_uri": "https://localhost:8080/"
        },
        "id": "rjYdZU7J6Tl5",
        "outputId": "c30c3aa5-15fa-497e-ac87-df1acdadc3c2"
      },
      "source": [
        "if tpu:\n",
        "  tf.config.experimental_connect_to_cluster(tpu)\n",
        "  tf.tpu.experimental.initialize_tpu_system(tpu)\n",
        "  strategy=tf.distribute.experimental.TPUStrategy(tpu)\n",
        "  print('Running on TPU ', tpu.cluster_spec().as_dict()['worker'])\n",
        "elif len(gpus) > 1:\n",
        "  strategy = tf.distribute.MirroredStrategy([gpu.name for gpu in gpus])\n",
        "  print('Running on multiple GPUs ', [gpu.name for gpu in gpus])\n",
        "elif len(gpus) == 1:\n",
        "  strategy = tf.distribute.get_strategy()\n",
        "  print('Running on single GPU ', gpus[0].name)\n",
        "else:\n",
        "  strategy = tf.distribute.get_strategy()\n",
        "  print('Running on CPU')\n",
        "print(\"Number of accelerators: \", strategy.num_replicas_in_sync)"
      ],
      "execution_count": 11,
      "outputs": [
        {
          "output_type": "stream",
          "name": "stdout",
          "text": [
            "INFO:tensorflow:Clearing out eager caches\n"
          ]
        },
        {
          "output_type": "stream",
          "name": "stderr",
          "text": [
            "INFO:tensorflow:Clearing out eager caches\n"
          ]
        },
        {
          "output_type": "stream",
          "name": "stdout",
          "text": [
            "INFO:tensorflow:Initializing the TPU system: grpc://10.90.4.90:8470\n"
          ]
        },
        {
          "output_type": "stream",
          "name": "stderr",
          "text": [
            "INFO:tensorflow:Initializing the TPU system: grpc://10.90.4.90:8470\n"
          ]
        },
        {
          "output_type": "stream",
          "name": "stdout",
          "text": [
            "INFO:tensorflow:Finished initializing TPU system.\n"
          ]
        },
        {
          "output_type": "stream",
          "name": "stderr",
          "text": [
            "INFO:tensorflow:Finished initializing TPU system.\n",
            "WARNING:absl:`tf.distribute.experimental.TPUStrategy` is deprecated, please use  the non experimental symbol `tf.distribute.TPUStrategy` instead.\n"
          ]
        },
        {
          "output_type": "stream",
          "name": "stdout",
          "text": [
            "INFO:tensorflow:Found TPU system:\n"
          ]
        },
        {
          "output_type": "stream",
          "name": "stderr",
          "text": [
            "INFO:tensorflow:Found TPU system:\n"
          ]
        },
        {
          "output_type": "stream",
          "name": "stdout",
          "text": [
            "INFO:tensorflow:*** Num TPU Cores: 8\n"
          ]
        },
        {
          "output_type": "stream",
          "name": "stderr",
          "text": [
            "INFO:tensorflow:*** Num TPU Cores: 8\n"
          ]
        },
        {
          "output_type": "stream",
          "name": "stdout",
          "text": [
            "INFO:tensorflow:*** Num TPU Workers: 1\n"
          ]
        },
        {
          "output_type": "stream",
          "name": "stderr",
          "text": [
            "INFO:tensorflow:*** Num TPU Workers: 1\n"
          ]
        },
        {
          "output_type": "stream",
          "name": "stdout",
          "text": [
            "INFO:tensorflow:*** Num TPU Cores Per Worker: 8\n"
          ]
        },
        {
          "output_type": "stream",
          "name": "stderr",
          "text": [
            "INFO:tensorflow:*** Num TPU Cores Per Worker: 8\n"
          ]
        },
        {
          "output_type": "stream",
          "name": "stdout",
          "text": [
            "INFO:tensorflow:*** Available Device: _DeviceAttributes(/job:localhost/replica:0/task:0/device:CPU:0, CPU, 0, 0)\n"
          ]
        },
        {
          "output_type": "stream",
          "name": "stderr",
          "text": [
            "INFO:tensorflow:*** Available Device: _DeviceAttributes(/job:localhost/replica:0/task:0/device:CPU:0, CPU, 0, 0)\n"
          ]
        },
        {
          "output_type": "stream",
          "name": "stdout",
          "text": [
            "INFO:tensorflow:*** Available Device: _DeviceAttributes(/job:worker/replica:0/task:0/device:CPU:0, CPU, 0, 0)\n"
          ]
        },
        {
          "output_type": "stream",
          "name": "stderr",
          "text": [
            "INFO:tensorflow:*** Available Device: _DeviceAttributes(/job:worker/replica:0/task:0/device:CPU:0, CPU, 0, 0)\n"
          ]
        },
        {
          "output_type": "stream",
          "name": "stdout",
          "text": [
            "INFO:tensorflow:*** Available Device: _DeviceAttributes(/job:worker/replica:0/task:0/device:TPU:0, TPU, 0, 0)\n"
          ]
        },
        {
          "output_type": "stream",
          "name": "stderr",
          "text": [
            "INFO:tensorflow:*** Available Device: _DeviceAttributes(/job:worker/replica:0/task:0/device:TPU:0, TPU, 0, 0)\n"
          ]
        },
        {
          "output_type": "stream",
          "name": "stdout",
          "text": [
            "INFO:tensorflow:*** Available Device: _DeviceAttributes(/job:worker/replica:0/task:0/device:TPU:1, TPU, 0, 0)\n"
          ]
        },
        {
          "output_type": "stream",
          "name": "stderr",
          "text": [
            "INFO:tensorflow:*** Available Device: _DeviceAttributes(/job:worker/replica:0/task:0/device:TPU:1, TPU, 0, 0)\n"
          ]
        },
        {
          "output_type": "stream",
          "name": "stdout",
          "text": [
            "INFO:tensorflow:*** Available Device: _DeviceAttributes(/job:worker/replica:0/task:0/device:TPU:2, TPU, 0, 0)\n"
          ]
        },
        {
          "output_type": "stream",
          "name": "stderr",
          "text": [
            "INFO:tensorflow:*** Available Device: _DeviceAttributes(/job:worker/replica:0/task:0/device:TPU:2, TPU, 0, 0)\n"
          ]
        },
        {
          "output_type": "stream",
          "name": "stdout",
          "text": [
            "INFO:tensorflow:*** Available Device: _DeviceAttributes(/job:worker/replica:0/task:0/device:TPU:3, TPU, 0, 0)\n"
          ]
        },
        {
          "output_type": "stream",
          "name": "stderr",
          "text": [
            "INFO:tensorflow:*** Available Device: _DeviceAttributes(/job:worker/replica:0/task:0/device:TPU:3, TPU, 0, 0)\n"
          ]
        },
        {
          "output_type": "stream",
          "name": "stdout",
          "text": [
            "INFO:tensorflow:*** Available Device: _DeviceAttributes(/job:worker/replica:0/task:0/device:TPU:4, TPU, 0, 0)\n"
          ]
        },
        {
          "output_type": "stream",
          "name": "stderr",
          "text": [
            "INFO:tensorflow:*** Available Device: _DeviceAttributes(/job:worker/replica:0/task:0/device:TPU:4, TPU, 0, 0)\n"
          ]
        },
        {
          "output_type": "stream",
          "name": "stdout",
          "text": [
            "INFO:tensorflow:*** Available Device: _DeviceAttributes(/job:worker/replica:0/task:0/device:TPU:5, TPU, 0, 0)\n"
          ]
        },
        {
          "output_type": "stream",
          "name": "stderr",
          "text": [
            "INFO:tensorflow:*** Available Device: _DeviceAttributes(/job:worker/replica:0/task:0/device:TPU:5, TPU, 0, 0)\n"
          ]
        },
        {
          "output_type": "stream",
          "name": "stdout",
          "text": [
            "INFO:tensorflow:*** Available Device: _DeviceAttributes(/job:worker/replica:0/task:0/device:TPU:6, TPU, 0, 0)\n"
          ]
        },
        {
          "output_type": "stream",
          "name": "stderr",
          "text": [
            "INFO:tensorflow:*** Available Device: _DeviceAttributes(/job:worker/replica:0/task:0/device:TPU:6, TPU, 0, 0)\n"
          ]
        },
        {
          "output_type": "stream",
          "name": "stdout",
          "text": [
            "INFO:tensorflow:*** Available Device: _DeviceAttributes(/job:worker/replica:0/task:0/device:TPU:7, TPU, 0, 0)\n"
          ]
        },
        {
          "output_type": "stream",
          "name": "stderr",
          "text": [
            "INFO:tensorflow:*** Available Device: _DeviceAttributes(/job:worker/replica:0/task:0/device:TPU:7, TPU, 0, 0)\n"
          ]
        },
        {
          "output_type": "stream",
          "name": "stdout",
          "text": [
            "INFO:tensorflow:*** Available Device: _DeviceAttributes(/job:worker/replica:0/task:0/device:TPU_SYSTEM:0, TPU_SYSTEM, 0, 0)\n"
          ]
        },
        {
          "output_type": "stream",
          "name": "stderr",
          "text": [
            "INFO:tensorflow:*** Available Device: _DeviceAttributes(/job:worker/replica:0/task:0/device:TPU_SYSTEM:0, TPU_SYSTEM, 0, 0)\n"
          ]
        },
        {
          "output_type": "stream",
          "name": "stdout",
          "text": [
            "INFO:tensorflow:*** Available Device: _DeviceAttributes(/job:worker/replica:0/task:0/device:XLA_CPU:0, XLA_CPU, 0, 0)\n"
          ]
        },
        {
          "output_type": "stream",
          "name": "stderr",
          "text": [
            "INFO:tensorflow:*** Available Device: _DeviceAttributes(/job:worker/replica:0/task:0/device:XLA_CPU:0, XLA_CPU, 0, 0)\n"
          ]
        },
        {
          "output_type": "stream",
          "name": "stdout",
          "text": [
            "Running on TPU  ['10.90.4.90:8470']\n",
            "Number of accelerators:  8\n"
          ]
        }
      ]
    },
    {
      "cell_type": "code",
      "metadata": {
        "id": "_8V7zZD66d8g"
      },
      "source": [
        "BATCH_SIZE = 64 * strategy.num_replicas_in_sync"
      ],
      "execution_count": 12,
      "outputs": []
    },
    {
      "cell_type": "code",
      "metadata": {
        "id": "3IDr-xuP636M"
      },
      "source": [
        "def read_image_tfds(image,label):\n",
        "  xmin=tf.random.uniform((),0,48,dtype=tf.int32)\n",
        "  ymin=tf.random.uniform((),0,48,dtype=tf.int32)\n",
        "  image=tf.reshape(image,(28,28,1))\n",
        "  image=tf.image.pad_to_bounding_box(image,ymin,xmin,75,75)\n",
        "  image=tf.cast(image, tf.float32)/255.0\n",
        "  xmin=tf.cast(xmin, tf.float32)\n",
        "  ymin=tf.cast(ymin, tf.float32)\n",
        "  xmax=(xmin + 28)/75\n",
        "  ymax=(ymin + 28)/75\n",
        "  xmin=xmin/75\n",
        "  ymin=ymin/75\n",
        "  return image,(tf.one_hot(label,10),[xmin, ymin, xmax, ymax])"
      ],
      "execution_count": 13,
      "outputs": []
    },
    {
      "cell_type": "code",
      "metadata": {
        "id": "XdIyTEZt8YTw"
      },
      "source": [
        "def get_training_dataset():\n",
        "       with  strategy.scope():\n",
        "        dataset = tfds.load(\"mnist\", split=\"train\", as_supervised=True, try_gcs=True)\n",
        "        dataset = dataset.map(read_image_tfds, num_parallel_calls=16)\n",
        "        dataset = dataset.shuffle(5000, reshuffle_each_iteration=True)\n",
        "        dataset = dataset.repeat()\n",
        "        dataset = dataset.batch(BATCH_SIZE, drop_remainder=True)\n",
        "        dataset = dataset.prefetch(-1)\n",
        "       return dataset"
      ],
      "execution_count": 14,
      "outputs": []
    },
    {
      "cell_type": "code",
      "metadata": {
        "id": "UUx9emX683kd"
      },
      "source": [
        "def get_validation_dataset():\n",
        "    dataset = tfds.load(\"mnist\", split=\"test\", as_supervised=True, try_gcs=True)\n",
        "    dataset = dataset.map(read_image_tfds, num_parallel_calls=16)\n",
        "    dataset = dataset.batch(10000, drop_remainder=True)\n",
        "    dataset = dataset.repeat()\n",
        "    return dataset"
      ],
      "execution_count": 15,
      "outputs": []
    },
    {
      "cell_type": "code",
      "metadata": {
        "id": "msxG1p-h9Gnu"
      },
      "source": [
        "with strategy.scope():\n",
        "  training_dataset = get_training_dataset()\n",
        "  validation_dataset = get_validation_dataset()"
      ],
      "execution_count": 16,
      "outputs": []
    },
    {
      "cell_type": "code",
      "metadata": {
        "colab": {
          "base_uri": "https://localhost:8080/",
          "height": 511
        },
        "id": "N5X9w-H39NaD",
        "outputId": "3e7fabd2-1aba-4ded-917f-dc6eadbebd86"
      },
      "source": [
        "(training_digits, training_labels, training_bboxes,validation_digits, validation_labels, validation_bboxes) = dataset_to_numpy_util(training_dataset, validation_dataset, 10)\n",
        "display_digits_with_boxes(training_digits, training_labels, training_labels, np.array([]), training_bboxes, np.array([]), \"training digits and their labels\")\n",
        "display_digits_with_boxes(validation_digits, validation_labels, validation_labels, np.array([]), validation_bboxes, np.array([]), \"validation digits and their labels\")"
      ],
      "execution_count": 17,
      "outputs": [
        {
          "output_type": "display_data",
          "data": {
            "image/png": "[encoded data removed]",
            "text/plain": [
              "<Figure size 1440x288 with 11 Axes>"
            ]
          },
          "metadata": {}
        },
        {
          "output_type": "display_data",
          "data": {
            "image/png": "[encoded data removed]",
            "text/plain": [
              "<Figure size 1440x288 with 11 Axes>"
            ]
          },
          "metadata": {}
        }
      ]
    },
    {
      "cell_type": "code",
      "metadata": {
        "id": "U98w5cEF9rRY"
      },
      "source": [
        "def feature_extractor(inputs):\n",
        "  x=tf.keras.layers.Conv2D(16,activation='relu',kernel_size=3,input_shape=(75,75,1))(inputs)\n",
        "  x=tf.keras.layers.AveragePooling2D((2,2))(x)\n",
        "  x=tf.keras.layers.Conv2D(32,activation='relu',kernel_size=3)(x)\n",
        "  x=tf.keras.layers.AveragePooling2D((2,2))(x)\n",
        "  x=tf.keras.layers.Conv2D(64,activation='relu',kernel_size=3)(x)\n",
        "  x=tf.keras.layers.AveragePooling2D((2,2))(x)\n",
        "  return x"
      ],
      "execution_count": 18,
      "outputs": []
    },
    {
      "cell_type": "code",
      "metadata": {
        "id": "Bq-VKx3EAfp5"
      },
      "source": [
        "def dense_layers(inputs):\n",
        "  x=tf.keras.layers.Flatten()(inputs)\n",
        "  x=tf.keras.layers.Dense(128,activation='relu')(x)\n",
        "  return x"
      ],
      "execution_count": 19,
      "outputs": []
    },
    {
      "cell_type": "code",
      "metadata": {
        "id": "UzCvC0QSAr4J"
      },
      "source": [
        "def classifier(inputs):\n",
        "  classification_output=tf.keras.layers.Dense(10, activation='softmax', name = 'classification')(inputs)\n",
        "  return classification_output"
      ],
      "execution_count": 20,
      "outputs": []
    },
    {
      "cell_type": "code",
      "metadata": {
        "id": "hRfzxq2-Avve"
      },
      "source": [
        "def bounding_box_regression(inputs):\n",
        "    bounding_box_regression_output = tf.keras.layers.Dense(units = '4', name = 'bounding_box')(inputs)\n",
        "    return bounding_box_regression_output"
      ],
      "execution_count": 21,
      "outputs": []
    },
    {
      "cell_type": "code",
      "metadata": {
        "id": "mUfoHIw-A21r"
      },
      "source": [
        "def final_model(inputs):\n",
        "    feature_cnn=feature_extractor(inputs)\n",
        "    dense_output=dense_layers(feature_cnn)\n",
        "    classification_output = classifier(dense_output)\n",
        "    bounding_box_output = bounding_box_regression(dense_output)\n",
        "    model = tf.keras.Model(inputs = inputs, outputs = [classification_output, bounding_box_output])\n",
        "    return model"
      ],
      "execution_count": 22,
      "outputs": []
    },
    {
      "cell_type": "code",
      "metadata": {
        "id": "m5dZUUKBA6x5"
      },
      "source": [
        "def define_and_compile_model(inputs):\n",
        "  model = final_model(inputs)\n",
        "  model.compile(optimizer='adam', loss = {'classification' : 'categorical_crossentropy','bounding_box' : 'mse'},metrics = {'classification' : 'accuracy','bounding_box' : 'mse'})\n",
        "  return model"
      ],
      "execution_count": 23,
      "outputs": []
    },
    {
      "cell_type": "code",
      "metadata": {
        "id": "LivpiuvuBNWd"
      },
      "source": [
        "with strategy.scope():\n",
        "  inputs = tf.keras.layers.Input(shape=(75, 75, 1,))\n",
        "  model = define_and_compile_model(inputs)"
      ],
      "execution_count": 24,
      "outputs": []
    },
    {
      "cell_type": "code",
      "metadata": {
        "id": "u07ZVkduBRLF",
        "outputId": "985dc147-7ac4-4c52-8d5b-14a28c0483a5",
        "colab": {
          "base_uri": "https://localhost:8080/"
        }
      },
      "source": [
        "model.summary()"
      ],
      "execution_count": 25,
      "outputs": [
        {
          "output_type": "stream",
          "name": "stdout",
          "text": [
            "Model: \"model\"\n",
            "__________________________________________________________________________________________________\n",
            "Layer (type)                    Output Shape         Param #     Connected to                     \n",
            "==================================================================================================\n",
            "input_1 (InputLayer)            [(None, 75, 75, 1)]  0                                            \n",
            "__________________________________________________________________________________________________\n",
            "conv2d (Conv2D)                 (None, 73, 73, 16)   160         input_1[0][0]                    \n",
            "__________________________________________________________________________________________________\n",
            "average_pooling2d (AveragePooli (None, 36, 36, 16)   0           conv2d[0][0]                     \n",
            "__________________________________________________________________________________________________\n",
            "conv2d_1 (Conv2D)               (None, 34, 34, 32)   4640        average_pooling2d[0][0]          \n",
            "__________________________________________________________________________________________________\n",
            "average_pooling2d_1 (AveragePoo (None, 17, 17, 32)   0           conv2d_1[0][0]                   \n",
            "__________________________________________________________________________________________________\n",
            "conv2d_2 (Conv2D)               (None, 15, 15, 64)   18496       average_pooling2d_1[0][0]        \n",
            "__________________________________________________________________________________________________\n",
            "average_pooling2d_2 (AveragePoo (None, 7, 7, 64)     0           conv2d_2[0][0]                   \n",
            "__________________________________________________________________________________________________\n",
            "flatten (Flatten)               (None, 3136)         0           average_pooling2d_2[0][0]        \n",
            "__________________________________________________________________________________________________\n",
            "dense (Dense)                   (None, 128)          401536      flatten[0][0]                    \n",
            "__________________________________________________________________________________________________\n",
            "classification (Dense)          (None, 10)           1290        dense[0][0]                      \n",
            "__________________________________________________________________________________________________\n",
            "bounding_box (Dense)            (None, 4)            516         dense[0][0]                      \n",
            "==================================================================================================\n",
            "Total params: 426,638\n",
            "Trainable params: 426,638\n",
            "Non-trainable params: 0\n",
            "__________________________________________________________________________________________________\n"
          ]
        }
      ]
    },
    {
      "cell_type": "code",
      "metadata": {
        "id": "QmlhU49fBUf8",
        "outputId": "35052489-c53c-4365-e281-5ada6e967810",
        "colab": {
          "base_uri": "https://localhost:8080/"
        }
      },
      "source": [
        "EPOCHS=45\n",
        "steps_per_epoch=60000//BATCH_SIZE\n",
        "validation_steps=1\n",
        "history = model.fit(training_dataset,steps_per_epoch=steps_per_epoch, validation_data=validation_dataset, validation_steps=validation_steps, epochs=EPOCHS)\n",
        "loss, classification_loss, bounding_box_loss, classification_accuracy, bounding_box_mse = model.evaluate(validation_dataset, steps=1)\n",
        "print(\"Validation accuracy: \", classification_accuracy)"
      ],
      "execution_count": 26,
      "outputs": [
        {
          "output_type": "stream",
          "name": "stdout",
          "text": [
            "Epoch 1/45\n",
            "117/117 [==============================] - 9s 38ms/step - loss: 2.1221 - classification_loss: 2.1023 - bounding_box_loss: 0.0198 - classification_accuracy: 0.2139 - bounding_box_mse: 0.0198 - val_loss: 1.6539 - val_classification_loss: 1.6407 - val_bounding_box_loss: 0.0133 - val_classification_accuracy: 0.4015 - val_bounding_box_mse: 0.0133\n",
            "Epoch 2/45\n",
            "117/117 [==============================] - 3s 26ms/step - loss: 1.1312 - classification_loss: 1.1100 - bounding_box_loss: 0.0212 - classification_accuracy: 0.6320 - bounding_box_mse: 0.0212 - val_loss: 0.6543 - val_classification_loss: 0.6188 - val_bounding_box_loss: 0.0354 - val_classification_accuracy: 0.7908 - val_bounding_box_mse: 0.0354\n",
            "Epoch 3/45\n",
            "117/117 [==============================] - 3s 26ms/step - loss: 0.5171 - classification_loss: 0.4924 - bounding_box_loss: 0.0247 - classification_accuracy: 0.8529 - bounding_box_mse: 0.0247 - val_loss: 0.3850 - val_classification_loss: 0.3672 - val_bounding_box_loss: 0.0178 - val_classification_accuracy: 0.8889 - val_bounding_box_mse: 0.0178\n",
            "Epoch 4/45\n",
            "117/117 [==============================] - 3s 26ms/step - loss: 0.3814 - classification_loss: 0.3637 - bounding_box_loss: 0.0176 - classification_accuracy: 0.8937 - bounding_box_mse: 0.0176 - val_loss: 0.3070 - val_classification_loss: 0.2931 - val_bounding_box_loss: 0.0138 - val_classification_accuracy: 0.9149 - val_bounding_box_mse: 0.0138\n",
            "Epoch 5/45\n",
            "117/117 [==============================] - 3s 27ms/step - loss: 0.3165 - classification_loss: 0.3030 - bounding_box_loss: 0.0135 - classification_accuracy: 0.9115 - bounding_box_mse: 0.0135 - val_loss: 0.2592 - val_classification_loss: 0.2437 - val_bounding_box_loss: 0.0155 - val_classification_accuracy: 0.9271 - val_bounding_box_mse: 0.0155\n",
            "Epoch 6/45\n",
            "117/117 [==============================] - 3s 26ms/step - loss: 0.2759 - classification_loss: 0.2633 - bounding_box_loss: 0.0126 - classification_accuracy: 0.9224 - bounding_box_mse: 0.0126 - val_loss: 0.2224 - val_classification_loss: 0.2131 - val_bounding_box_loss: 0.0093 - val_classification_accuracy: 0.9343 - val_bounding_box_mse: 0.0093\n",
            "Epoch 7/45\n",
            "117/117 [==============================] - 3s 26ms/step - loss: 0.2420 - classification_loss: 0.2316 - bounding_box_loss: 0.0103 - classification_accuracy: 0.9321 - bounding_box_mse: 0.0103 - val_loss: 0.2040 - val_classification_loss: 0.1943 - val_bounding_box_loss: 0.0097 - val_classification_accuracy: 0.9417 - val_bounding_box_mse: 0.0097\n",
            "Epoch 8/45\n",
            "117/117 [==============================] - 3s 27ms/step - loss: 0.2206 - classification_loss: 0.2114 - bounding_box_loss: 0.0092 - classification_accuracy: 0.9373 - bounding_box_mse: 0.0092 - val_loss: 0.1758 - val_classification_loss: 0.1684 - val_bounding_box_loss: 0.0074 - val_classification_accuracy: 0.9488 - val_bounding_box_mse: 0.0074\n",
            "Epoch 9/45\n",
            "117/117 [==============================] - 3s 27ms/step - loss: 0.2071 - classification_loss: 0.1989 - bounding_box_loss: 0.0082 - classification_accuracy: 0.9408 - bounding_box_mse: 0.0082 - val_loss: 0.1721 - val_classification_loss: 0.1651 - val_bounding_box_loss: 0.0071 - val_classification_accuracy: 0.9504 - val_bounding_box_mse: 0.0071\n",
            "Epoch 10/45\n",
            "117/117 [==============================] - 3s 26ms/step - loss: 0.1864 - classification_loss: 0.1794 - bounding_box_loss: 0.0070 - classification_accuracy: 0.9467 - bounding_box_mse: 0.0070 - val_loss: 0.1477 - val_classification_loss: 0.1412 - val_bounding_box_loss: 0.0065 - val_classification_accuracy: 0.9559 - val_bounding_box_mse: 0.0065\n",
            "Epoch 11/45\n",
            "117/117 [==============================] - 3s 26ms/step - loss: 0.1784 - classification_loss: 0.1720 - bounding_box_loss: 0.0065 - classification_accuracy: 0.9486 - bounding_box_mse: 0.0065 - val_loss: 0.1427 - val_classification_loss: 0.1368 - val_bounding_box_loss: 0.0060 - val_classification_accuracy: 0.9578 - val_bounding_box_mse: 0.0060\n",
            "Epoch 12/45\n",
            "117/117 [==============================] - 3s 27ms/step - loss: 0.1734 - classification_loss: 0.1673 - bounding_box_loss: 0.0061 - classification_accuracy: 0.9495 - bounding_box_mse: 0.0061 - val_loss: 0.1464 - val_classification_loss: 0.1403 - val_bounding_box_loss: 0.0061 - val_classification_accuracy: 0.9586 - val_bounding_box_mse: 0.0061\n",
            "Epoch 13/45\n",
            "117/117 [==============================] - 3s 27ms/step - loss: 0.1581 - classification_loss: 0.1529 - bounding_box_loss: 0.0052 - classification_accuracy: 0.9541 - bounding_box_mse: 0.0052 - val_loss: 0.1321 - val_classification_loss: 0.1269 - val_bounding_box_loss: 0.0052 - val_classification_accuracy: 0.9602 - val_bounding_box_mse: 0.0052\n",
            "Epoch 14/45\n",
            "117/117 [==============================] - 3s 27ms/step - loss: 0.1503 - classification_loss: 0.1455 - bounding_box_loss: 0.0048 - classification_accuracy: 0.9561 - bounding_box_mse: 0.0048 - val_loss: 0.1319 - val_classification_loss: 0.1271 - val_bounding_box_loss: 0.0047 - val_classification_accuracy: 0.9610 - val_bounding_box_mse: 0.0047\n",
            "Epoch 15/45\n",
            "117/117 [==============================] - 3s 27ms/step - loss: 0.1469 - classification_loss: 0.1425 - bounding_box_loss: 0.0044 - classification_accuracy: 0.9567 - bounding_box_mse: 0.0044 - val_loss: 0.1090 - val_classification_loss: 0.1051 - val_bounding_box_loss: 0.0039 - val_classification_accuracy: 0.9661 - val_bounding_box_mse: 0.0039\n",
            "Epoch 16/45\n",
            "117/117 [==============================] - 3s 27ms/step - loss: 0.1431 - classification_loss: 0.1392 - bounding_box_loss: 0.0039 - classification_accuracy: 0.9576 - bounding_box_mse: 0.0039 - val_loss: 0.1094 - val_classification_loss: 0.1060 - val_bounding_box_loss: 0.0034 - val_classification_accuracy: 0.9687 - val_bounding_box_mse: 0.0034\n",
            "Epoch 17/45\n",
            "117/117 [==============================] - 3s 26ms/step - loss: 0.1312 - classification_loss: 0.1278 - bounding_box_loss: 0.0035 - classification_accuracy: 0.9614 - bounding_box_mse: 0.0035 - val_loss: 0.1121 - val_classification_loss: 0.1086 - val_bounding_box_loss: 0.0036 - val_classification_accuracy: 0.9669 - val_bounding_box_mse: 0.0036\n",
            "Epoch 18/45\n",
            "117/117 [==============================] - 3s 27ms/step - loss: 0.1306 - classification_loss: 0.1271 - bounding_box_loss: 0.0034 - classification_accuracy: 0.9611 - bounding_box_mse: 0.0034 - val_loss: 0.1133 - val_classification_loss: 0.1098 - val_bounding_box_loss: 0.0035 - val_classification_accuracy: 0.9658 - val_bounding_box_mse: 0.0035\n",
            "Epoch 19/45\n",
            "117/117 [==============================] - 3s 27ms/step - loss: 0.1257 - classification_loss: 0.1226 - bounding_box_loss: 0.0031 - classification_accuracy: 0.9628 - bounding_box_mse: 0.0031 - val_loss: 0.1035 - val_classification_loss: 0.1005 - val_bounding_box_loss: 0.0030 - val_classification_accuracy: 0.9692 - val_bounding_box_mse: 0.0030\n",
            "Epoch 20/45\n",
            "117/117 [==============================] - 3s 26ms/step - loss: 0.1214 - classification_loss: 0.1184 - bounding_box_loss: 0.0030 - classification_accuracy: 0.9630 - bounding_box_mse: 0.0030 - val_loss: 0.0926 - val_classification_loss: 0.0899 - val_bounding_box_loss: 0.0027 - val_classification_accuracy: 0.9728 - val_bounding_box_mse: 0.0027\n",
            "Epoch 21/45\n",
            "117/117 [==============================] - 3s 26ms/step - loss: 0.1133 - classification_loss: 0.1106 - bounding_box_loss: 0.0026 - classification_accuracy: 0.9666 - bounding_box_mse: 0.0026 - val_loss: 0.0939 - val_classification_loss: 0.0915 - val_bounding_box_loss: 0.0024 - val_classification_accuracy: 0.9706 - val_bounding_box_mse: 0.0024\n",
            "Epoch 22/45\n",
            "117/117 [==============================] - 3s 27ms/step - loss: 0.1147 - classification_loss: 0.1121 - bounding_box_loss: 0.0026 - classification_accuracy: 0.9660 - bounding_box_mse: 0.0026 - val_loss: 0.1030 - val_classification_loss: 0.1002 - val_bounding_box_loss: 0.0029 - val_classification_accuracy: 0.9693 - val_bounding_box_mse: 0.0029\n",
            "Epoch 23/45\n",
            "117/117 [==============================] - 3s 27ms/step - loss: 0.1062 - classification_loss: 0.1038 - bounding_box_loss: 0.0024 - classification_accuracy: 0.9681 - bounding_box_mse: 0.0024 - val_loss: 0.0933 - val_classification_loss: 0.0909 - val_bounding_box_loss: 0.0024 - val_classification_accuracy: 0.9719 - val_bounding_box_mse: 0.0024\n",
            "Epoch 24/45\n",
            "117/117 [==============================] - 3s 26ms/step - loss: 0.1090 - classification_loss: 0.1066 - bounding_box_loss: 0.0024 - classification_accuracy: 0.9680 - bounding_box_mse: 0.0024 - val_loss: 0.0842 - val_classification_loss: 0.0818 - val_bounding_box_loss: 0.0024 - val_classification_accuracy: 0.9741 - val_bounding_box_mse: 0.0024\n",
            "Epoch 25/45\n",
            "117/117 [==============================] - 3s 27ms/step - loss: 0.1011 - classification_loss: 0.0989 - bounding_box_loss: 0.0022 - classification_accuracy: 0.9694 - bounding_box_mse: 0.0022 - val_loss: 0.0885 - val_classification_loss: 0.0863 - val_bounding_box_loss: 0.0022 - val_classification_accuracy: 0.9733 - val_bounding_box_mse: 0.0022\n",
            "Epoch 26/45\n",
            "117/117 [==============================] - 3s 29ms/step - loss: 0.1035 - classification_loss: 0.1016 - bounding_box_loss: 0.0020 - classification_accuracy: 0.9692 - bounding_box_mse: 0.0020 - val_loss: 0.0781 - val_classification_loss: 0.0763 - val_bounding_box_loss: 0.0018 - val_classification_accuracy: 0.9765 - val_bounding_box_mse: 0.0018\n",
            "Epoch 27/45\n",
            "117/117 [==============================] - 3s 27ms/step - loss: 0.0973 - classification_loss: 0.0954 - bounding_box_loss: 0.0020 - classification_accuracy: 0.9702 - bounding_box_mse: 0.0020 - val_loss: 0.0845 - val_classification_loss: 0.0825 - val_bounding_box_loss: 0.0020 - val_classification_accuracy: 0.9713 - val_bounding_box_mse: 0.0020\n",
            "Epoch 28/45\n",
            "117/117 [==============================] - 3s 26ms/step - loss: 0.0957 - classification_loss: 0.0938 - bounding_box_loss: 0.0019 - classification_accuracy: 0.9713 - bounding_box_mse: 0.0019 - val_loss: 0.0794 - val_classification_loss: 0.0777 - val_bounding_box_loss: 0.0017 - val_classification_accuracy: 0.9754 - val_bounding_box_mse: 0.0017\n",
            "Epoch 29/45\n",
            "117/117 [==============================] - 3s 27ms/step - loss: 0.0894 - classification_loss: 0.0876 - bounding_box_loss: 0.0017 - classification_accuracy: 0.9732 - bounding_box_mse: 0.0017 - val_loss: 0.0777 - val_classification_loss: 0.0757 - val_bounding_box_loss: 0.0020 - val_classification_accuracy: 0.9755 - val_bounding_box_mse: 0.0020\n",
            "Epoch 30/45\n",
            "117/117 [==============================] - 3s 27ms/step - loss: 0.0893 - classification_loss: 0.0877 - bounding_box_loss: 0.0017 - classification_accuracy: 0.9730 - bounding_box_mse: 0.0017 - val_loss: 0.0736 - val_classification_loss: 0.0719 - val_bounding_box_loss: 0.0016 - val_classification_accuracy: 0.9759 - val_bounding_box_mse: 0.0016\n",
            "Epoch 31/45\n",
            "117/117 [==============================] - 3s 26ms/step - loss: 0.0882 - classification_loss: 0.0866 - bounding_box_loss: 0.0016 - classification_accuracy: 0.9732 - bounding_box_mse: 0.0016 - val_loss: 0.0712 - val_classification_loss: 0.0694 - val_bounding_box_loss: 0.0018 - val_classification_accuracy: 0.9789 - val_bounding_box_mse: 0.0018\n",
            "Epoch 32/45\n",
            "117/117 [==============================] - 3s 26ms/step - loss: 0.0846 - classification_loss: 0.0830 - bounding_box_loss: 0.0015 - classification_accuracy: 0.9741 - bounding_box_mse: 0.0015 - val_loss: 0.0646 - val_classification_loss: 0.0630 - val_bounding_box_loss: 0.0016 - val_classification_accuracy: 0.9796 - val_bounding_box_mse: 0.0016\n",
            "Epoch 33/45\n",
            "117/117 [==============================] - 3s 26ms/step - loss: 0.0828 - classification_loss: 0.0813 - bounding_box_loss: 0.0015 - classification_accuracy: 0.9748 - bounding_box_mse: 0.0015 - val_loss: 0.0744 - val_classification_loss: 0.0729 - val_bounding_box_loss: 0.0015 - val_classification_accuracy: 0.9757 - val_bounding_box_mse: 0.0015\n",
            "Epoch 34/45\n",
            "117/117 [==============================] - 3s 27ms/step - loss: 0.0830 - classification_loss: 0.0816 - bounding_box_loss: 0.0014 - classification_accuracy: 0.9747 - bounding_box_mse: 0.0014 - val_loss: 0.0640 - val_classification_loss: 0.0624 - val_bounding_box_loss: 0.0016 - val_classification_accuracy: 0.9806 - val_bounding_box_mse: 0.0016\n",
            "Epoch 35/45\n",
            "117/117 [==============================] - 3s 27ms/step - loss: 0.0796 - classification_loss: 0.0782 - bounding_box_loss: 0.0014 - classification_accuracy: 0.9765 - bounding_box_mse: 0.0014 - val_loss: 0.0780 - val_classification_loss: 0.0765 - val_bounding_box_loss: 0.0015 - val_classification_accuracy: 0.9754 - val_bounding_box_mse: 0.0015\n",
            "Epoch 36/45\n",
            "117/117 [==============================] - 3s 26ms/step - loss: 0.0801 - classification_loss: 0.0786 - bounding_box_loss: 0.0015 - classification_accuracy: 0.9759 - bounding_box_mse: 0.0015 - val_loss: 0.0657 - val_classification_loss: 0.0642 - val_bounding_box_loss: 0.0015 - val_classification_accuracy: 0.9780 - val_bounding_box_mse: 0.0015\n",
            "Epoch 37/45\n",
            "117/117 [==============================] - 3s 27ms/step - loss: 0.0751 - classification_loss: 0.0738 - bounding_box_loss: 0.0013 - classification_accuracy: 0.9765 - bounding_box_mse: 0.0013 - val_loss: 0.0646 - val_classification_loss: 0.0634 - val_bounding_box_loss: 0.0012 - val_classification_accuracy: 0.9796 - val_bounding_box_mse: 0.0012\n",
            "Epoch 38/45\n",
            "117/117 [==============================] - 3s 27ms/step - loss: 0.0771 - classification_loss: 0.0758 - bounding_box_loss: 0.0013 - classification_accuracy: 0.9767 - bounding_box_mse: 0.0013 - val_loss: 0.0722 - val_classification_loss: 0.0708 - val_bounding_box_loss: 0.0014 - val_classification_accuracy: 0.9774 - val_bounding_box_mse: 0.0014\n",
            "Epoch 39/45\n",
            "117/117 [==============================] - 3s 27ms/step - loss: 0.0727 - classification_loss: 0.0715 - bounding_box_loss: 0.0012 - classification_accuracy: 0.9780 - bounding_box_mse: 0.0012 - val_loss: 0.0603 - val_classification_loss: 0.0591 - val_bounding_box_loss: 0.0012 - val_classification_accuracy: 0.9809 - val_bounding_box_mse: 0.0012\n",
            "Epoch 40/45\n",
            "117/117 [==============================] - 3s 27ms/step - loss: 0.0744 - classification_loss: 0.0732 - bounding_box_loss: 0.0012 - classification_accuracy: 0.9781 - bounding_box_mse: 0.0012 - val_loss: 0.0633 - val_classification_loss: 0.0621 - val_bounding_box_loss: 0.0012 - val_classification_accuracy: 0.9809 - val_bounding_box_mse: 0.0012\n",
            "Epoch 41/45\n",
            "117/117 [==============================] - 3s 27ms/step - loss: 0.0706 - classification_loss: 0.0694 - bounding_box_loss: 0.0012 - classification_accuracy: 0.9784 - bounding_box_mse: 0.0012 - val_loss: 0.0568 - val_classification_loss: 0.0557 - val_bounding_box_loss: 0.0011 - val_classification_accuracy: 0.9812 - val_bounding_box_mse: 0.0011\n",
            "Epoch 42/45\n",
            "117/117 [==============================] - 3s 27ms/step - loss: 0.0688 - classification_loss: 0.0678 - bounding_box_loss: 0.0011 - classification_accuracy: 0.9791 - bounding_box_mse: 0.0011 - val_loss: 0.0530 - val_classification_loss: 0.0521 - val_bounding_box_loss: 9.6164e-04 - val_classification_accuracy: 0.9816 - val_bounding_box_mse: 9.6164e-04\n",
            "Epoch 43/45\n",
            "117/117 [==============================] - 3s 27ms/step - loss: 0.0658 - classification_loss: 0.0647 - bounding_box_loss: 0.0011 - classification_accuracy: 0.9804 - bounding_box_mse: 0.0011 - val_loss: 0.0535 - val_classification_loss: 0.0525 - val_bounding_box_loss: 9.7861e-04 - val_classification_accuracy: 0.9831 - val_bounding_box_mse: 9.7861e-04\n",
            "Epoch 44/45\n",
            "117/117 [==============================] - 3s 27ms/step - loss: 0.0671 - classification_loss: 0.0660 - bounding_box_loss: 0.0010 - classification_accuracy: 0.9796 - bounding_box_mse: 0.0010 - val_loss: 0.0572 - val_classification_loss: 0.0562 - val_bounding_box_loss: 9.9214e-04 - val_classification_accuracy: 0.9800 - val_bounding_box_mse: 9.9214e-04\n",
            "Epoch 45/45\n",
            "117/117 [==============================] - 3s 29ms/step - loss: 0.0634 - classification_loss: 0.0624 - bounding_box_loss: 9.9016e-04 - classification_accuracy: 0.9801 - bounding_box_mse: 9.9016e-04 - val_loss: 0.0590 - val_classification_loss: 0.0580 - val_bounding_box_loss: 0.0010 - val_classification_accuracy: 0.9801 - val_bounding_box_mse: 0.0010\n",
            "1/1 [==============================] - 1s 1s/step - loss: 0.0596 - classification_loss: 0.0585 - bounding_box_loss: 0.0010 - classification_accuracy: 0.9817 - bounding_box_mse: 0.0010\n",
            "Validation accuracy:  0.9817000031471252\n"
          ]
        }
      ]
    },
    {
      "cell_type": "code",
      "metadata": {
        "id": "esiJ5G3dBhiE",
        "outputId": "6d554de8-a47b-47b4-a24d-2839e099950e",
        "colab": {
          "base_uri": "https://localhost:8080/",
          "height": 284
        }
      },
      "source": [
        "plot_metrics(\"classification_loss\", \"Classification Loss\")\n",
        "plot_metrics(\"bounding_box_loss\", \"Bounding Box Loss\")"
      ],
      "execution_count": 27,
      "outputs": [
        {
          "output_type": "display_data",
          "data": {
            "image/png": "[encoded data removed]",
            "text/plain": [
              "<Figure size 432x288 with 1 Axes>"
            ]
          },
          "metadata": {}
        }
      ]
    },
    {
      "cell_type": "code",
      "metadata": {
        "id": "OmEHgNNOBq_x"
      },
      "source": [
        "def intersection_over_union(pred_box, true_box):\n",
        "    xmin_pred, ymin_pred, xmax_pred, ymax_pred =  np.split(pred_box, 4, axis = 1)\n",
        "    xmin_true, ymin_true, xmax_true, ymax_true = np.split(true_box, 4, axis = 1)\n",
        "    smoothing_factor = 1e-10\n",
        "    xmin_overlap = np.maximum(xmin_pred, xmin_true)\n",
        "    xmax_overlap = np.minimum(xmax_pred, xmax_true)\n",
        "    ymin_overlap = np.maximum(ymin_pred, ymin_true)\n",
        "    ymax_overlap = np.minimum(ymax_pred, ymax_true)\n",
        "    pred_box_area = (xmax_pred - xmin_pred) * (ymax_pred - ymin_pred)\n",
        "    true_box_area = (xmax_true - xmin_true) * (ymax_true - ymin_true)\n",
        "    overlap_area = np.maximum((xmax_overlap - xmin_overlap), 0)  * np.maximum((ymax_overlap - ymin_overlap), 0)\n",
        "    union_area = (pred_box_area + true_box_area) - overlap_area   \n",
        "    iou = (overlap_area + smoothing_factor) / (union_area + smoothing_factor)\n",
        "    return iou"
      ],
      "execution_count": 29,
      "outputs": []
    },
    {
      "cell_type": "code",
      "metadata": {
        "id": "VbUQRcrDB9M7",
        "outputId": "dc5387e3-c8a0-4e2d-ab10-ace9916fe76e",
        "colab": {
          "base_uri": "https://localhost:8080/",
          "height": 300
        }
      },
      "source": [
        "predictions = model.predict(validation_digits, batch_size=64)\n",
        "predicted_labels = np.argmax(predictions[0], axis=1)\n",
        "predicted_bboxes = predictions[1]\n",
        "iou = intersection_over_union(predicted_bboxes, validation_bboxes)\n",
        "iou_threshold = 0.6\n",
        "print(\"Number of predictions where iou > threshold(%s): %s\" % (iou_threshold, (iou >= iou_threshold).sum()))\n",
        "print(\"Number of predictions where iou < threshold(%s): %s\" % (iou_threshold, (iou < iou_threshold).sum()))\n",
        "display_digits_with_boxes(validation_digits, predicted_labels, validation_labels, predicted_bboxes, validation_bboxes, iou, \"True and Predicted values\")"
      ],
      "execution_count": 30,
      "outputs": [
        {
          "output_type": "stream",
          "name": "stdout",
          "text": [
            "Number of predictions where iou > threshold(0.6): 9570\n",
            "Number of predictions where iou < threshold(0.6): 430\n"
          ]
        },
        {
          "output_type": "display_data",
          "data": {
            "image/png": "[encoded data removed]",
            "text/plain": [
              "<Figure size 1440x288 with 11 Axes>"
            ]
          },
          "metadata": {}
        }
      ]
    },
    {
      "cell_type": "code",
      "metadata": {
        "id": "B2Lfc5ZiCP7E"
      },
      "source": [
        ""
      ],
      "execution_count": null,
      "outputs": []
    }
  ]
}